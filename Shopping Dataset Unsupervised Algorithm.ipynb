{
 "cells": [
  {
   "cell_type": "code",
   "execution_count": null,
   "id": "d051f0e8",
   "metadata": {},
   "outputs": [],
   "source": [
    "import numpy as np\n",
    "import pandas as pd\n",
    "import seaborn as sns\n",
    "import matplotlib.pyplot as plt"
   ]
  },
  {
   "cell_type": "code",
   "execution_count": null,
   "id": "dd5fabad",
   "metadata": {},
   "outputs": [],
   "source": [
    "df = pd.read_csv(\"shopping_data.csv\")\n",
    "df"
   ]
  },
  {
   "cell_type": "code",
   "execution_count": null,
   "id": "60849267",
   "metadata": {},
   "outputs": [],
   "source": [
    "df.isnull().sum()"
   ]
  },
  {
   "cell_type": "code",
   "execution_count": null,
   "id": "f4d23650",
   "metadata": {},
   "outputs": [],
   "source": [
    "df.duplicated().any()"
   ]
  },
  {
   "cell_type": "code",
   "execution_count": null,
   "id": "2c1239ba",
   "metadata": {},
   "outputs": [],
   "source": [
    "df.columns"
   ]
  },
  {
   "cell_type": "code",
   "execution_count": null,
   "id": "2fb8fb82",
   "metadata": {},
   "outputs": [],
   "source": [
    "df.drop(['CustomerID','Genre','Age'],axis=1,inplace=True)"
   ]
  },
  {
   "cell_type": "code",
   "execution_count": null,
   "id": "79968392",
   "metadata": {},
   "outputs": [],
   "source": [
    "df"
   ]
  },
  {
   "cell_type": "code",
   "execution_count": null,
   "id": "64435564",
   "metadata": {},
   "outputs": [],
   "source": [
    "sns.scatterplot(x='Annual Income (k$)',y=\"Spending Score (1-100)\",data=df)"
   ]
  },
  {
   "cell_type": "code",
   "execution_count": null,
   "id": "26f4f408",
   "metadata": {},
   "outputs": [],
   "source": [
    "from sklearn.cluster import AgglomerativeClustering"
   ]
  },
  {
   "cell_type": "code",
   "execution_count": null,
   "id": "da4c1299",
   "metadata": {},
   "outputs": [],
   "source": [
    "ac = AgglomerativeClustering(n_clusters=5,affinity='euclidean',linkage='ward')"
   ]
  },
  {
   "cell_type": "code",
   "execution_count": null,
   "id": "10370e28",
   "metadata": {},
   "outputs": [],
   "source": [
    "ac.fit(df)"
   ]
  },
  {
   "cell_type": "code",
   "execution_count": null,
   "id": "07a7002c",
   "metadata": {},
   "outputs": [],
   "source": [
    "Y_predict1 = ac.fit_predict(df)"
   ]
  },
  {
   "cell_type": "code",
   "execution_count": null,
   "id": "5e90b6f3",
   "metadata": {},
   "outputs": [],
   "source": [
    "df[\"AgglomerativeClustering\"] = Y_predict1"
   ]
  },
  {
   "cell_type": "code",
   "execution_count": null,
   "id": "91924040",
   "metadata": {},
   "outputs": [],
   "source": [
    "df"
   ]
  },
  {
   "cell_type": "code",
   "execution_count": null,
   "id": "37e085f9",
   "metadata": {},
   "outputs": [],
   "source": [
    "sns.scatterplot(x='Annual Income (k$)',y=\"Spending Score (1-100)\",data=df,c=Y_predict1)"
   ]
  },
  {
   "cell_type": "code",
   "execution_count": null,
   "id": "6e37ed4f",
   "metadata": {},
   "outputs": [],
   "source": [
    "from sklearn.cluster import KMeans"
   ]
  },
  {
   "cell_type": "code",
   "execution_count": null,
   "id": "32be7b03",
   "metadata": {},
   "outputs": [],
   "source": [
    "km = KMeans(n_clusters=5,max_iter=1000)"
   ]
  },
  {
   "cell_type": "code",
   "execution_count": null,
   "id": "59ad73f6",
   "metadata": {},
   "outputs": [],
   "source": [
    "km.fit(df.iloc[:,:2])"
   ]
  },
  {
   "cell_type": "code",
   "execution_count": null,
   "id": "ad28b8f3",
   "metadata": {},
   "outputs": [],
   "source": [
    "Y_predict2 = km.fit_predict(df.iloc[:,:2])"
   ]
  },
  {
   "cell_type": "code",
   "execution_count": null,
   "id": "b2c48ccc",
   "metadata": {},
   "outputs": [],
   "source": [
    "df[\"KmeansClustering\"] = Y_predict2"
   ]
  },
  {
   "cell_type": "code",
   "execution_count": null,
   "id": "ad8bb4a4",
   "metadata": {},
   "outputs": [],
   "source": [
    "df"
   ]
  },
  {
   "cell_type": "code",
   "execution_count": null,
   "id": "27a41818",
   "metadata": {},
   "outputs": [],
   "source": [
    "sns.scatterplot(x='Annual Income (k$)',y=\"Spending Score (1-100)\",data=df,c=Y_predict2)"
   ]
  },
  {
   "cell_type": "code",
   "execution_count": null,
   "id": "bcafec2d",
   "metadata": {},
   "outputs": [],
   "source": [
    "from sklearn.metrics import silhouette_score"
   ]
  },
  {
   "cell_type": "code",
   "execution_count": null,
   "id": "96152ef1",
   "metadata": {},
   "outputs": [],
   "source": [
    "silhouette_score(df.iloc[:,:2],Y_predict1)"
   ]
  },
  {
   "cell_type": "code",
   "execution_count": null,
   "id": "f06783fa",
   "metadata": {},
   "outputs": [],
   "source": [
    "silhouette_score(df.iloc[:,:2],Y_predict2)"
   ]
  }
 ],
 "metadata": {
  "kernelspec": {
   "display_name": "Python 3 (ipykernel)",
   "language": "python",
   "name": "python3"
  },
  "language_info": {
   "codemirror_mode": {
    "name": "ipython",
    "version": 3
   },
   "file_extension": ".py",
   "mimetype": "text/x-python",
   "name": "python",
   "nbconvert_exporter": "python",
   "pygments_lexer": "ipython3",
   "version": "3.10.11"
  }
 },
 "nbformat": 4,
 "nbformat_minor": 5
}
